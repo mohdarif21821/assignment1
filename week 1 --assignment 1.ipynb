{
 "cells": [
  {
   "cell_type": "code",
   "execution_count": 4,
   "id": "0f3fe08a",
   "metadata": {},
   "outputs": [
    {
     "data": {
      "text/plain": [
       "str"
      ]
     },
     "execution_count": 4,
     "metadata": {},
     "output_type": "execute_result"
    }
   ],
   "source": [
    "#Q-1 create one variable containing following type of data:\n",
    "#(1)string\n",
    "s = 'mohd'\n",
    "type(s)"
   ]
  },
  {
   "cell_type": "code",
   "execution_count": 5,
   "id": "1c0f266e",
   "metadata": {},
   "outputs": [
    {
     "data": {
      "text/plain": [
       "list"
      ]
     },
     "execution_count": 5,
     "metadata": {},
     "output_type": "execute_result"
    }
   ],
   "source": [
    "#(2)list\n",
    "l = [1,2,3,4,5]\n",
    "type(l)"
   ]
  },
  {
   "cell_type": "code",
   "execution_count": 7,
   "id": "1d63b85f",
   "metadata": {},
   "outputs": [
    {
     "data": {
      "text/plain": [
       "float"
      ]
     },
     "execution_count": 7,
     "metadata": {},
     "output_type": "execute_result"
    }
   ],
   "source": [
    "#(3)float\n",
    "a = 344.56\n",
    "type(a)"
   ]
  },
  {
   "cell_type": "code",
   "execution_count": 8,
   "id": "b2ef3447",
   "metadata": {},
   "outputs": [
    {
     "data": {
      "text/plain": [
       "tuple"
      ]
     },
     "execution_count": 8,
     "metadata": {},
     "output_type": "execute_result"
    }
   ],
   "source": [
    "#(4)tuple \n",
    "t = ('arif','mohd',2,4,5)\n",
    "type(t)"
   ]
  },
  {
   "cell_type": "code",
   "execution_count": 9,
   "id": "a27605d7",
   "metadata": {},
   "outputs": [
    {
     "data": {
      "text/plain": [
       "str"
      ]
     },
     "execution_count": 9,
     "metadata": {},
     "output_type": "execute_result"
    }
   ],
   "source": [
    "#Q-2.Given are some following variables containing data:\n",
    "#(1)\n",
    "var1 = ''\n",
    "type(var1)\n"
   ]
  },
  {
   "cell_type": "code",
   "execution_count": 11,
   "id": "404d7fad",
   "metadata": {},
   "outputs": [
    {
     "data": {
      "text/plain": [
       "str"
      ]
     },
     "execution_count": 11,
     "metadata": {},
     "output_type": "execute_result"
    }
   ],
   "source": [
    "#(2)\n",
    "var2 = '[DS,ML,Python]'\n",
    "type(var2)"
   ]
  },
  {
   "cell_type": "code",
   "execution_count": 12,
   "id": "f6cc150a",
   "metadata": {},
   "outputs": [
    {
     "data": {
      "text/plain": [
       "list"
      ]
     },
     "execution_count": 12,
     "metadata": {},
     "output_type": "execute_result"
    }
   ],
   "source": [
    "#(3) \n",
    "var3 = ['DS','ML','Python']\n",
    "type(var3)"
   ]
  },
  {
   "cell_type": "code",
   "execution_count": 13,
   "id": "f0327758",
   "metadata": {},
   "outputs": [
    {
     "data": {
      "text/plain": [
       "int"
      ]
     },
     "execution_count": 13,
     "metadata": {},
     "output_type": "execute_result"
    }
   ],
   "source": [
    "#(4)\n",
    "var4 = 1\n",
    "type(var4)"
   ]
  },
  {
   "cell_type": "code",
   "execution_count": 14,
   "id": "fa2e7496",
   "metadata": {},
   "outputs": [
    {
     "name": "stdout",
     "output_type": "stream",
     "text": [
      "2.0\n"
     ]
    }
   ],
   "source": [
    "#Q-3.Explain the use of the following operators using an example:\n",
    "#(1)/\n",
    "a = 10 \n",
    "b = 5\n",
    "print(a/b)\n"
   ]
  },
  {
   "cell_type": "code",
   "execution_count": 15,
   "id": "aa42f1e7",
   "metadata": {},
   "outputs": [
    {
     "name": "stdout",
     "output_type": "stream",
     "text": [
      "1\n"
     ]
    }
   ],
   "source": [
    "#(2)%\n",
    "a = 9\n",
    "b = 2\n",
    "print(a%b)"
   ]
  },
  {
   "cell_type": "code",
   "execution_count": 16,
   "id": "f9f7c542",
   "metadata": {},
   "outputs": [
    {
     "name": "stdout",
     "output_type": "stream",
     "text": [
      "4\n"
     ]
    }
   ],
   "source": [
    "#(3)//\n",
    "a = 9\n",
    "b = 2\n",
    "print(a//b)"
   ]
  },
  {
   "cell_type": "code",
   "execution_count": 17,
   "id": "180f9cf2",
   "metadata": {},
   "outputs": [
    {
     "name": "stdout",
     "output_type": "stream",
     "text": [
      "8\n"
     ]
    }
   ],
   "source": [
    "#(4)**\n",
    "a = 2\n",
    "b = 3\n",
    "print(a**b)"
   ]
  },
  {
   "cell_type": "code",
   "execution_count": 18,
   "id": "908bd25a",
   "metadata": {},
   "outputs": [
    {
     "name": "stdout",
     "output_type": "stream",
     "text": [
      "<class 'str'>\n",
      "<class 'int'>\n",
      "<class 'float'>\n",
      "<class 'bool'>\n",
      "<class 'complex'>\n",
      "<class 'bool'>\n",
      "<class 'str'>\n",
      "<class 'int'>\n",
      "<class 'int'>\n",
      "<class 'int'>\n"
     ]
    }
   ],
   "source": [
    "#Q-4.Create a list of length 10 of your choice containing multiple types of data.\n",
    "#Using for loop print the element and its data type.\n",
    "\n",
    "l = ['arif',43,45.23,True,4+3j,False,'mohd',2,3,4]\n",
    "for i in l:\n",
    "    print(type(i))\n",
    "    "
   ]
  },
  {
   "cell_type": "code",
   "execution_count": 35,
   "id": "b1f0014d",
   "metadata": {},
   "outputs": [
    {
     "name": "stdout",
     "output_type": "stream",
     "text": [
      "4\n"
     ]
    }
   ],
   "source": [
    "#Q-5.Using a while loop,verify if the number A is purely divisible by number B \n",
    "#and if so then how many times it can be divisible.\n",
    "\n",
    "a = 81\n",
    "    \n",
    "count = 0\n",
    "\n",
    "b = 3\n",
    "\n",
    "while a > 0:\n",
    "    if a % b == 0:\n",
    "        count = count + 1\n",
    "    a = a / b \n",
    "if a == 1:\n",
    "    count = count + 1\n",
    "    \n",
    "print(count)"
   ]
  },
  {
   "cell_type": "code",
   "execution_count": 36,
   "id": "510756be",
   "metadata": {},
   "outputs": [
    {
     "name": "stdout",
     "output_type": "stream",
     "text": [
      "n is not divisible by 3\n",
      "n is not divisible by 3\n",
      "n is divisible by 3\n",
      "n is not divisible by 3\n",
      "n is not divisible by 3\n",
      "n is divisible by 3\n",
      "n is not divisible by 3\n",
      "n is not divisible by 3\n",
      "n is divisible by 3\n",
      "n is not divisible by 3\n",
      "n is not divisible by 3\n",
      "n is divisible by 3\n",
      "n is not divisible by 3\n",
      "n is not divisible by 3\n",
      "n is divisible by 3\n",
      "n is not divisible by 3\n",
      "n is not divisible by 3\n",
      "n is divisible by 3\n",
      "n is not divisible by 3\n",
      "n is not divisible by 3\n",
      "n is divisible by 3\n",
      "n is not divisible by 3\n",
      "n is divisible by 3\n",
      "n is not divisible by 3\n"
     ]
    }
   ],
   "source": [
    "#Q-6.Create a list containing 25 int type data.\n",
    "#Using for loop and if-else condition print if the element is divisible by 3 or not.\n",
    "list = [1,2,3,4,5,6,7,8,9,10,11,12,13,14,15,16,17,18,19,20,21,23,24,25]\n",
    "for n in list:\n",
    "    if n % 3 == 0:\n",
    "        print(\"n is divisible by 3\")\n",
    "    else:\n",
    "        print(\"n is not divisible by 3\")"
   ]
  },
  {
   "cell_type": "code",
   "execution_count": 39,
   "id": "96c74bd6",
   "metadata": {},
   "outputs": [
    {
     "name": "stdout",
     "output_type": "stream",
     "text": [
      "[100, 2, 3, 4]\n"
     ]
    }
   ],
   "source": [
    "#Q-7.What do you understand about mutable and immutable data types? \n",
    "#Give examples for both show this property.\n",
    "\n",
    "#MUTABLE:\n",
    "       #Mutable data types,on the other hand,can be modified after creation.\n",
    "        #This means that you can change their contents in-place without creating a new object.\n",
    "list = [1,2,3]\n",
    "list.append(4)\n",
    "list[0] = 100\n",
    "print(list)"
   ]
  },
  {
   "cell_type": "code",
   "execution_count": 45,
   "id": "87ce51cc",
   "metadata": {},
   "outputs": [
    {
     "ename": "TypeError",
     "evalue": "'str' object does not support item assignment",
     "output_type": "error",
     "traceback": [
      "\u001b[1;31m---------------------------------------------------------------------------\u001b[0m",
      "\u001b[1;31mTypeError\u001b[0m                                 Traceback (most recent call last)",
      "Cell \u001b[1;32mIn[45], line 7\u001b[0m\n\u001b[0;32m      1\u001b[0m \u001b[38;5;66;03m#Immutable:\u001b[39;00m\n\u001b[0;32m      2\u001b[0m           \u001b[38;5;66;03m#Immutable data types are generally safer in a multi-threaded environment\u001b[39;00m\n\u001b[0;32m      3\u001b[0m            \u001b[38;5;66;03m#because they cannot be changed after creation.\u001b[39;00m\n\u001b[0;32m      6\u001b[0m s \u001b[38;5;241m=\u001b[39m \u001b[38;5;124m\"\u001b[39m\u001b[38;5;124mArif\u001b[39m\u001b[38;5;124m\"\u001b[39m\n\u001b[1;32m----> 7\u001b[0m s[\u001b[38;5;241m1\u001b[39m] \u001b[38;5;241m=\u001b[39m \u001b[38;5;124m'\u001b[39m\u001b[38;5;124md\u001b[39m\u001b[38;5;124m'\u001b[39m\n",
      "\u001b[1;31mTypeError\u001b[0m: 'str' object does not support item assignment"
     ]
    }
   ],
   "source": [
    "#Immutable:\n",
    "          #Immutable data types are generally safer in a multi-threaded environment\n",
    "           #because they cannot be changed after creation.\n",
    "        \n",
    "        \n",
    "s = \"Arif\"\n",
    "s[1] = 'd'\n",
    "        "
   ]
  },
  {
   "cell_type": "code",
   "execution_count": null,
   "id": "b23d2389",
   "metadata": {},
   "outputs": [],
   "source": []
  }
 ],
 "metadata": {
  "kernelspec": {
   "display_name": "Python 3 (ipykernel)",
   "language": "python",
   "name": "python3"
  },
  "language_info": {
   "codemirror_mode": {
    "name": "ipython",
    "version": 3
   },
   "file_extension": ".py",
   "mimetype": "text/x-python",
   "name": "python",
   "nbconvert_exporter": "python",
   "pygments_lexer": "ipython3",
   "version": "3.11.4"
  }
 },
 "nbformat": 4,
 "nbformat_minor": 5
}
